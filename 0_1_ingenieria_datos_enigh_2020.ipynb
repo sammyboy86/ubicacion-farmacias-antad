{
 "cells": [
  {
   "cell_type": "code",
   "execution_count": 1,
   "metadata": {},
   "outputs": [],
   "source": [
    "import pandas as pd\n",
    "pd.set_option('display.max_columns', None)"
   ]
  },
  {
   "cell_type": "code",
   "execution_count": 2,
   "metadata": {},
   "outputs": [],
   "source": [
    "#lectura de archivos\n",
    "enigh = pd.read_csv(r'data\\conjunto_de_datos_enigh_ns_2022_csv\\conjunto_de_datos_concentradohogar_enigh2022_ns\\conjunto_de_datos\\conjunto_de_datos_concentradohogar_enigh2022_ns.csv', dtype=object)"
   ]
  },
  {
   "cell_type": "code",
   "execution_count": 3,
   "metadata": {},
   "outputs": [],
   "source": [
    "#variables de interés\n",
    "enigh = enigh[['medicinas', 'cuida_pers','ubica_geo', 'est_socio','ing_cor']]"
   ]
  },
  {
   "cell_type": "code",
   "execution_count": 4,
   "metadata": {},
   "outputs": [],
   "source": [
    "# columnas numéricas\n",
    "float_columns_2022 = ['medicinas', 'cuida_pers','est_socio','ing_cor']"
   ]
  },
  {
   "cell_type": "code",
   "execution_count": 5,
   "metadata": {},
   "outputs": [],
   "source": [
    "enigh[float_columns_2022] = enigh[float_columns_2022].astype(float)\n",
    "\n",
    "# columnas categóricas\n",
    "\n",
    "enigh['ubica_geo'] = enigh['ubica_geo'].astype(str)"
   ]
  },
  {
   "cell_type": "code",
   "execution_count": 6,
   "metadata": {},
   "outputs": [],
   "source": [
    "# extraccion entidad y municipio\n",
    "enigh.loc[:,'entidad'] = enigh['ubica_geo'].apply(lambda x: x[0] if len(x) == 8 else x[0:2])\n",
    "enigh.loc[:,'municipio'] = enigh['ubica_geo'].apply(lambda x: x[1:4] if len(x) == 8 else x[2:5])"
   ]
  },
  {
   "cell_type": "code",
   "execution_count": 7,
   "metadata": {},
   "outputs": [],
   "source": [
    "#agrupar municipio entidad\n",
    "enigh_mun = enigh.groupby(['entidad', 'municipio']).agg({ 'medicinas':'sum', 'cuida_pers':'sum', 'est_socio':'mean','ing_cor':'sum'}).reset_index()"
   ]
  },
  {
   "cell_type": "code",
   "execution_count": 8,
   "metadata": {},
   "outputs": [],
   "source": [
    "import geopandas as gpd\n",
    "\n",
    "#poligonos municipales\n",
    "mun_grouped = gpd.read_file(r'data\\out\\mun_grouped\\mun_grouped.shp')"
   ]
  },
  {
   "cell_type": "code",
   "execution_count": 9,
   "metadata": {},
   "outputs": [],
   "source": [
    "# juntar poligonos y enigh\n",
    "enigh_mun_pol=pd.merge(enigh_mun, mun_grouped, left_on=['entidad', 'municipio'], right_on=['CVE_ENT', 'CVE_MUN'], how='inner')"
   ]
  },
  {
   "cell_type": "code",
   "execution_count": 10,
   "metadata": {},
   "outputs": [
    {
     "name": "stdout",
     "output_type": "stream",
     "text": [
      "Step 1 (Identifying missing polygons) took: 0.02 seconds\n"
     ]
    }
   ],
   "source": [
    "import time\n",
    "\n",
    "# identificar poligonos faltantes en enigh (municipios faltantes)\n",
    "start_time = time.time()\n",
    "missing_polygons = mun_grouped[~mun_grouped[['CVE_ENT', 'CVE_MUN']].apply(tuple, 1).isin(enigh_mun_pol[['CVE_ENT', 'CVE_MUN']].apply(tuple, 1))]\n",
    "print(f\"Step 1 (Identifying missing polygons) took: {time.time() - start_time:.2f} seconds\")\n"
   ]
  },
  {
   "cell_type": "code",
   "execution_count": 11,
   "metadata": {},
   "outputs": [
    {
     "name": "stderr",
     "output_type": "stream",
     "text": [
      "Processing missing polygons: 100%|██████████| 1343/1343 [08:18<00:00,  2.70it/s]"
     ]
    },
    {
     "name": "stdout",
     "output_type": "stream",
     "text": [
      "Step 2 (Processing missing polygons) took: 498.06 seconds\n"
     ]
    },
    {
     "name": "stderr",
     "output_type": "stream",
     "text": [
      "\n"
     ]
    }
   ],
   "source": [
    "from tqdm import tqdm\n",
    "results = []\n",
    "\n",
    "# calcular vecinos mas cercanos de la misma entidad\n",
    "start_time = time.time()\n",
    "for _, missing_polygon in tqdm(missing_polygons.iterrows(), total=len(missing_polygons), desc=\"Processing missing polygons\"):\n",
    "    \n",
    "    missing_geom = missing_polygon['geometry']\n",
    "    missing_ent = missing_polygon['CVE_ENT']\n",
    "    \n",
    "    # filtrar por entidad\n",
    "    same_ent_polygons = enigh_mun_pol[enigh_mun_pol['CVE_ENT'] == missing_ent]\n",
    "    \n",
    "    if len(same_ent_polygons) > 0:\n",
    "        # sacar distancias\n",
    "        same_ent_polygons = same_ent_polygons.copy()  \n",
    "        same_ent_polygons.loc[:, 'distance'] = same_ent_polygons['geometry'].apply(lambda geom: missing_geom.distance(geom))\n",
    "        \n",
    "        # 3 poligonos mas cercanos\n",
    "        nearest_polygons = same_ent_polygons.nsmallest(3, 'distance')\n",
    "        \n",
    "        # sacar promedios\n",
    "        average_values = nearest_polygons[['medicinas', 'cuida_pers','est_socio','ing_cor']].mean()\n",
    "        \n",
    "        # añadir valor calculado\n",
    "        new_row = pd.concat([missing_polygon[['CVE_ENT', 'CVE_MUN', 'geometry']], average_values])\n",
    "        \n",
    "        results.append(new_row)\n",
    "    else:\n",
    "        print(f\"No neighboring polygons found for CVE_ENT: {missing_ent}\")\n",
    "print(f\"Step 2 (Processing missing polygons) took: {time.time() - start_time:.2f} seconds\")"
   ]
  },
  {
   "cell_type": "code",
   "execution_count": 12,
   "metadata": {},
   "outputs": [
    {
     "name": "stdout",
     "output_type": "stream",
     "text": [
      "Step 4 (Appending new polygons) took: 0.07 seconds\n"
     ]
    },
    {
     "name": "stderr",
     "output_type": "stream",
     "text": [
      "c:\\Users\\samue\\anaconda3\\envs\\scecd\\Lib\\site-packages\\geopandas\\array.py:1638: UserWarning: CRS not set for some of the concatenation inputs. Setting output's CRS as MEXICO_ITRF_2008_LCC (the single non-null crs provided).\n",
      "  return GeometryArray(data, crs=_get_common_crs(to_concat))\n"
     ]
    }
   ],
   "source": [
    "# 4combinar resultados y juntarlos al dataframe original\n",
    "start_time = time.time()\n",
    "new_polygons_df = gpd.GeoDataFrame(results)\n",
    "enigh_mun_pol = pd.concat([enigh_mun_pol,new_polygons_df])\n",
    "print(f\"Step 4 (Appending new polygons) took: {time.time() - start_time:.2f} seconds\")"
   ]
  },
  {
   "cell_type": "code",
   "execution_count": 13,
   "metadata": {},
   "outputs": [],
   "source": [
    "enigh_mun_pol=enigh_mun_pol.drop(columns=['index','entidad','municipio','CVEGEO','CVE_LOC','CVE_AGEB','AMBITO','geometry'])"
   ]
  },
  {
   "cell_type": "code",
   "execution_count": 14,
   "metadata": {},
   "outputs": [],
   "source": [
    "enigh_mun_pol.rename(columns={'CVE_ENT':'entidad','CVE_MUN':'municipio'}, inplace=True)"
   ]
  },
  {
   "cell_type": "code",
   "execution_count": 15,
   "metadata": {},
   "outputs": [
    {
     "data": {
      "text/html": [
       "<div>\n",
       "<style scoped>\n",
       "    .dataframe tbody tr th:only-of-type {\n",
       "        vertical-align: middle;\n",
       "    }\n",
       "\n",
       "    .dataframe tbody tr th {\n",
       "        vertical-align: top;\n",
       "    }\n",
       "\n",
       "    .dataframe thead th {\n",
       "        text-align: right;\n",
       "    }\n",
       "</style>\n",
       "<table border=\"1\" class=\"dataframe\">\n",
       "  <thead>\n",
       "    <tr style=\"text-align: right;\">\n",
       "      <th></th>\n",
       "      <th>medicinas</th>\n",
       "      <th>cuida_pers</th>\n",
       "      <th>est_socio</th>\n",
       "      <th>ing_cor</th>\n",
       "      <th>entidad</th>\n",
       "      <th>municipio</th>\n",
       "    </tr>\n",
       "  </thead>\n",
       "  <tbody>\n",
       "    <tr>\n",
       "      <th>0</th>\n",
       "      <td>370513.390000</td>\n",
       "      <td>3.901444e+06</td>\n",
       "      <td>2.714378</td>\n",
       "      <td>1.238243e+08</td>\n",
       "      <td>01</td>\n",
       "      <td>001</td>\n",
       "    </tr>\n",
       "    <tr>\n",
       "      <th>1</th>\n",
       "      <td>32014.210000</td>\n",
       "      <td>3.579400e+05</td>\n",
       "      <td>2.000000</td>\n",
       "      <td>9.133303e+06</td>\n",
       "      <td>01</td>\n",
       "      <td>002</td>\n",
       "    </tr>\n",
       "    <tr>\n",
       "      <th>2</th>\n",
       "      <td>46294.480000</td>\n",
       "      <td>3.280608e+05</td>\n",
       "      <td>2.000000</td>\n",
       "      <td>1.030639e+07</td>\n",
       "      <td>01</td>\n",
       "      <td>003</td>\n",
       "    </tr>\n",
       "    <tr>\n",
       "      <th>3</th>\n",
       "      <td>3553.960000</td>\n",
       "      <td>5.109968e+04</td>\n",
       "      <td>2.000000</td>\n",
       "      <td>7.592749e+05</td>\n",
       "      <td>01</td>\n",
       "      <td>004</td>\n",
       "    </tr>\n",
       "    <tr>\n",
       "      <th>4</th>\n",
       "      <td>78173.010000</td>\n",
       "      <td>7.372831e+05</td>\n",
       "      <td>2.268199</td>\n",
       "      <td>1.968148e+07</td>\n",
       "      <td>01</td>\n",
       "      <td>005</td>\n",
       "    </tr>\n",
       "    <tr>\n",
       "      <th>...</th>\n",
       "      <td>...</td>\n",
       "      <td>...</td>\n",
       "      <td>...</td>\n",
       "      <td>...</td>\n",
       "      <td>...</td>\n",
       "      <td>...</td>\n",
       "    </tr>\n",
       "    <tr>\n",
       "      <th>1338</th>\n",
       "      <td>46597.673333</td>\n",
       "      <td>4.896170e+05</td>\n",
       "      <td>2.632047</td>\n",
       "      <td>1.238122e+07</td>\n",
       "      <td>32</td>\n",
       "      <td>037</td>\n",
       "    </tr>\n",
       "    <tr>\n",
       "      <th>1339</th>\n",
       "      <td>4442.536667</td>\n",
       "      <td>7.189031e+04</td>\n",
       "      <td>1.667105</td>\n",
       "      <td>1.728795e+06</td>\n",
       "      <td>32</td>\n",
       "      <td>041</td>\n",
       "    </tr>\n",
       "    <tr>\n",
       "      <th>1340</th>\n",
       "      <td>16680.560000</td>\n",
       "      <td>1.022269e+05</td>\n",
       "      <td>2.200647</td>\n",
       "      <td>2.529844e+06</td>\n",
       "      <td>32</td>\n",
       "      <td>043</td>\n",
       "    </tr>\n",
       "    <tr>\n",
       "      <th>1341</th>\n",
       "      <td>3445.706667</td>\n",
       "      <td>4.207420e+04</td>\n",
       "      <td>1.666667</td>\n",
       "      <td>9.802428e+05</td>\n",
       "      <td>32</td>\n",
       "      <td>047</td>\n",
       "    </tr>\n",
       "    <tr>\n",
       "      <th>1342</th>\n",
       "      <td>5173.316667</td>\n",
       "      <td>4.141634e+04</td>\n",
       "      <td>1.504762</td>\n",
       "      <td>1.098802e+06</td>\n",
       "      <td>32</td>\n",
       "      <td>058</td>\n",
       "    </tr>\n",
       "  </tbody>\n",
       "</table>\n",
       "<p>2475 rows × 6 columns</p>\n",
       "</div>"
      ],
      "text/plain": [
       "          medicinas    cuida_pers  est_socio       ing_cor entidad municipio\n",
       "0     370513.390000  3.901444e+06   2.714378  1.238243e+08      01       001\n",
       "1      32014.210000  3.579400e+05   2.000000  9.133303e+06      01       002\n",
       "2      46294.480000  3.280608e+05   2.000000  1.030639e+07      01       003\n",
       "3       3553.960000  5.109968e+04   2.000000  7.592749e+05      01       004\n",
       "4      78173.010000  7.372831e+05   2.268199  1.968148e+07      01       005\n",
       "...             ...           ...        ...           ...     ...       ...\n",
       "1338   46597.673333  4.896170e+05   2.632047  1.238122e+07      32       037\n",
       "1339    4442.536667  7.189031e+04   1.667105  1.728795e+06      32       041\n",
       "1340   16680.560000  1.022269e+05   2.200647  2.529844e+06      32       043\n",
       "1341    3445.706667  4.207420e+04   1.666667  9.802428e+05      32       047\n",
       "1342    5173.316667  4.141634e+04   1.504762  1.098802e+06      32       058\n",
       "\n",
       "[2475 rows x 6 columns]"
      ]
     },
     "execution_count": 15,
     "metadata": {},
     "output_type": "execute_result"
    }
   ],
   "source": [
    "enigh_mun_pol"
   ]
  },
  {
   "cell_type": "code",
   "execution_count": 16,
   "metadata": {},
   "outputs": [],
   "source": [
    "enigh_mun_pol=enigh_mun_pol.dropna()"
   ]
  },
  {
   "cell_type": "code",
   "execution_count": 17,
   "metadata": {},
   "outputs": [
    {
     "data": {
      "text/plain": [
       "(2475, 6)"
      ]
     },
     "execution_count": 17,
     "metadata": {},
     "output_type": "execute_result"
    }
   ],
   "source": [
    "enigh_mun_pol.shape"
   ]
  },
  {
   "cell_type": "code",
   "execution_count": 18,
   "metadata": {},
   "outputs": [],
   "source": [
    "# exportar \n",
    "enigh_mun_pol.to_csv('data/out/enigh_2022_mun_pol.csv', index=False)"
   ]
  }
 ],
 "metadata": {
  "kernelspec": {
   "display_name": "scecd",
   "language": "python",
   "name": "python3"
  },
  "language_info": {
   "codemirror_mode": {
    "name": "ipython",
    "version": 3
   },
   "file_extension": ".py",
   "mimetype": "text/x-python",
   "name": "python",
   "nbconvert_exporter": "python",
   "pygments_lexer": "ipython3",
   "version": "3.12.6"
  }
 },
 "nbformat": 4,
 "nbformat_minor": 2
}
