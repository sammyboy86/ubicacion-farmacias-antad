{
 "cells": [
  {
   "cell_type": "code",
   "execution_count": 56,
   "metadata": {},
   "outputs": [],
   "source": [
    "import pandas as pd"
   ]
  },
  {
   "cell_type": "code",
   "execution_count": 57,
   "metadata": {},
   "outputs": [],
   "source": [
    "eceg_2020 = pd.read_csv(r'data\\iter_nal_2010_csv\\iter_00_cpv2010\\conjunto_de_datos\\iter_00_cpv2010.csv',dtype=object, )"
   ]
  },
  {
   "cell_type": "code",
   "execution_count": 58,
   "metadata": {},
   "outputs": [],
   "source": [
    "# set eceg columns to lower\n",
    "eceg_2020.columns = eceg_2020.columns.str.lower()"
   ]
  },
  {
   "cell_type": "code",
   "execution_count": 59,
   "metadata": {},
   "outputs": [],
   "source": [
    "eceg_2010 = pd.read_csv(r'data\\iter_nal_2010_csv\\iter_00_cpv2010\\conjunto_de_datos\\iter_00_cpv2010.csv', dtype=object)"
   ]
  },
  {
   "cell_type": "code",
   "execution_count": 60,
   "metadata": {},
   "outputs": [],
   "source": [
    "columnas_en_comun = [col for col in eceg_2020.columns if col in eceg_2010.columns]"
   ]
  },
  {
   "cell_type": "code",
   "execution_count": 61,
   "metadata": {},
   "outputs": [],
   "source": [
    "eceg_export = eceg_2010[[col for col in columnas_en_comun if col not in ['nom_ent',\n",
    " 'nom_mun',\n",
    " 'loc',\n",
    " 'nom_loc',\n",
    " 'longitud',\n",
    " 'latitud',\n",
    " 'altitud']]]"
   ]
  },
  {
   "cell_type": "code",
   "execution_count": 62,
   "metadata": {},
   "outputs": [],
   "source": [
    "eceg_export.iloc[:, 2:] = eceg_export.iloc[:, 2:].apply(pd.to_numeric, errors='coerce')\n",
    "eceg_export = eceg_export.dropna(subset=eceg_export.columns[2:])"
   ]
  },
  {
   "cell_type": "code",
   "execution_count": 63,
   "metadata": {},
   "outputs": [],
   "source": [
    "# Group by the 'municipio_column', sum all columns except those to be averaged\n",
    "# First, apply sum to the whole DataFrame\n",
    "result = eceg_export.groupby(['entidad', 'mun']).sum()\n",
    "\n",
    "\n",
    "# Reset index to bring 'ENTIDAD' and 'MUNICIPIO' back as columns\n",
    "result = result.reset_index()\n",
    "\n",
    "# Rename 'ENTIDAD' and 'MUNICIPIO' to lowercase\n",
    "result.rename(columns={'mun': 'municipio'}, inplace=True)"
   ]
  },
  {
   "cell_type": "code",
   "execution_count": 64,
   "metadata": {},
   "outputs": [
    {
     "data": {
      "text/plain": [
       "(2456, 193)"
      ]
     },
     "execution_count": 64,
     "metadata": {},
     "output_type": "execute_result"
    }
   ],
   "source": [
    "result.shape"
   ]
  },
  {
   "cell_type": "code",
   "execution_count": 65,
   "metadata": {},
   "outputs": [],
   "source": [
    "result.to_csv('data/out/eceg_2010_mun.csv', index=False)"
   ]
  }
 ],
 "metadata": {
  "kernelspec": {
   "display_name": "scecd",
   "language": "python",
   "name": "python3"
  },
  "language_info": {
   "codemirror_mode": {
    "name": "ipython",
    "version": 3
   },
   "file_extension": ".py",
   "mimetype": "text/x-python",
   "name": "python",
   "nbconvert_exporter": "python",
   "pygments_lexer": "ipython3",
   "version": "3.12.6"
  }
 },
 "nbformat": 4,
 "nbformat_minor": 2
}
